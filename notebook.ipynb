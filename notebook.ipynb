{
  "cells": [
    {
      "cell_type": "markdown",
      "metadata": {
        "id": "H9wADwK78DCz"
      },
      "source": [
        "# Proyek Analisis Data: E-Commerce Public Dataset\n",
        "- **Nama:** I Putu Yogi Artha\n",
        "- **Email:** yogiartha77@gmail.com\n",
        "- **ID Dicoding:** yogi_artha"
      ]
    },
    {
      "cell_type": "markdown",
      "metadata": {
        "id": "eE0raob58DC0"
      },
      "source": [
        "## Menentukan Pertanyaan Bisnis"
      ]
    },
    {
      "cell_type": "markdown",
      "metadata": {
        "id": "GmQeQ5YF8DC0"
      },
      "source": [
        "1. Pertanyaan 1: Bagaimana jumlah hasil penjualan dari setiap product category?\n",
        "2. Pertanyaan 2: Bagaimana hasil tren dari penjualan (order) setiap tahun?"
      ]
    },
    {
      "cell_type": "markdown",
      "metadata": {
        "id": "H-z4QGlO8DC1"
      },
      "source": [
        "## Import Semua Packages/Library yang Digunakan"
      ]
    },
    {
      "cell_type": "code",
      "execution_count": 1,
      "metadata": {
        "id": "FVYwaObI8DC1"
      },
      "outputs": [],
      "source": [
        "import pandas as pd\n",
        "import numpy as np\n",
        "import folium\n",
        "\n",
        "import seaborn as sns\n",
        "import matplotlib.pyplot as plt\n",
        "\n",
        "from wordcloud import WordCloud, STOPWORDS\n",
        "\n",
        "# Set color palette for Seaborn\n",
        "colors = [\"#26536f\",  \"#749ca8\", \"#c78a4d\", \"#854927\", \"#3b96b7\",  \"#b6a98d\"]\n",
        "sns.set_palette(colors)"
      ]
    },
    {
      "cell_type": "markdown",
      "metadata": {
        "id": "h_Sh51Xy8DC1"
      },
      "source": [
        "## Data Wrangling"
      ]
    },
    {
      "cell_type": "markdown",
      "metadata": {
        "id": "sXU2GBYu8DC1"
      },
      "source": [
        "### Gathering Data\n",
        "***\n",
        "- Dataset yang digunakan bernama **E-Commerce Public Dataset** yang dapat diunduh melalui link berikut: <br>\n",
        "    - https://drive.google.com/file/d/1MsAjPM7oKtVfJL_wRp1qmCajtSG1mdcK/view?usp=sharing\n",
        "- Semua dataset memiliki format *.csv* yang bisa diload menggunakan _read_csv()_ dari pandas"
      ]
    },
    {
      "cell_type": "code",
      "execution_count": 2,
      "metadata": {
        "id": "zjCBk1BI8DC1",
        "colab": {
          "base_uri": "https://localhost:8080/",
          "height": 356
        },
        "outputId": "6d127222-9f34-4ff4-acfd-17190248622b"
      },
      "outputs": [
        {
          "output_type": "error",
          "ename": "FileNotFoundError",
          "evalue": "[Errno 2] No such file or directory: './dataset/customers_dataset.csv'",
          "traceback": [
            "\u001b[0;31m---------------------------------------------------------------------------\u001b[0m",
            "\u001b[0;31mFileNotFoundError\u001b[0m                         Traceback (most recent call last)",
            "\u001b[0;32m<ipython-input-2-9cda7618f896>\u001b[0m in \u001b[0;36m<cell line: 2>\u001b[0;34m()\u001b[0m\n\u001b[1;32m      1\u001b[0m \u001b[0;31m# load semua file dari dataset\u001b[0m\u001b[0;34m\u001b[0m\u001b[0;34m\u001b[0m\u001b[0m\n\u001b[0;32m----> 2\u001b[0;31m \u001b[0mcustomers_df\u001b[0m \u001b[0;34m=\u001b[0m \u001b[0mpd\u001b[0m\u001b[0;34m.\u001b[0m\u001b[0mread_csv\u001b[0m\u001b[0;34m(\u001b[0m\u001b[0;34m'./dataset/customers_dataset.csv'\u001b[0m\u001b[0;34m)\u001b[0m\u001b[0;34m\u001b[0m\u001b[0;34m\u001b[0m\u001b[0m\n\u001b[0m\u001b[1;32m      3\u001b[0m \u001b[0mgeolocation_df\u001b[0m \u001b[0;34m=\u001b[0m \u001b[0mpd\u001b[0m\u001b[0;34m.\u001b[0m\u001b[0mread_csv\u001b[0m\u001b[0;34m(\u001b[0m\u001b[0;34m'./dataset/geolocation_dataset.csv'\u001b[0m\u001b[0;34m)\u001b[0m\u001b[0;34m\u001b[0m\u001b[0;34m\u001b[0m\u001b[0m\n\u001b[1;32m      4\u001b[0m \u001b[0morder_items_df\u001b[0m \u001b[0;34m=\u001b[0m \u001b[0mpd\u001b[0m\u001b[0;34m.\u001b[0m\u001b[0mread_csv\u001b[0m\u001b[0;34m(\u001b[0m\u001b[0;34m'./dataset/order_items_dataset.csv'\u001b[0m\u001b[0;34m)\u001b[0m\u001b[0;34m\u001b[0m\u001b[0;34m\u001b[0m\u001b[0m\n\u001b[1;32m      5\u001b[0m \u001b[0morder_payments_df\u001b[0m \u001b[0;34m=\u001b[0m \u001b[0mpd\u001b[0m\u001b[0;34m.\u001b[0m\u001b[0mread_csv\u001b[0m\u001b[0;34m(\u001b[0m\u001b[0;34m'./dataset/order_payments_dataset.csv'\u001b[0m\u001b[0;34m)\u001b[0m\u001b[0;34m\u001b[0m\u001b[0;34m\u001b[0m\u001b[0m\n",
            "\u001b[0;32m/usr/local/lib/python3.10/dist-packages/pandas/io/parsers/readers.py\u001b[0m in \u001b[0;36mread_csv\u001b[0;34m(filepath_or_buffer, sep, delimiter, header, names, index_col, usecols, dtype, engine, converters, true_values, false_values, skipinitialspace, skiprows, skipfooter, nrows, na_values, keep_default_na, na_filter, verbose, skip_blank_lines, parse_dates, infer_datetime_format, keep_date_col, date_parser, date_format, dayfirst, cache_dates, iterator, chunksize, compression, thousands, decimal, lineterminator, quotechar, quoting, doublequote, escapechar, comment, encoding, encoding_errors, dialect, on_bad_lines, delim_whitespace, low_memory, memory_map, float_precision, storage_options, dtype_backend)\u001b[0m\n\u001b[1;32m   1024\u001b[0m     \u001b[0mkwds\u001b[0m\u001b[0;34m.\u001b[0m\u001b[0mupdate\u001b[0m\u001b[0;34m(\u001b[0m\u001b[0mkwds_defaults\u001b[0m\u001b[0;34m)\u001b[0m\u001b[0;34m\u001b[0m\u001b[0;34m\u001b[0m\u001b[0m\n\u001b[1;32m   1025\u001b[0m \u001b[0;34m\u001b[0m\u001b[0m\n\u001b[0;32m-> 1026\u001b[0;31m     \u001b[0;32mreturn\u001b[0m \u001b[0m_read\u001b[0m\u001b[0;34m(\u001b[0m\u001b[0mfilepath_or_buffer\u001b[0m\u001b[0;34m,\u001b[0m \u001b[0mkwds\u001b[0m\u001b[0;34m)\u001b[0m\u001b[0;34m\u001b[0m\u001b[0;34m\u001b[0m\u001b[0m\n\u001b[0m\u001b[1;32m   1027\u001b[0m \u001b[0;34m\u001b[0m\u001b[0m\n\u001b[1;32m   1028\u001b[0m \u001b[0;34m\u001b[0m\u001b[0m\n",
            "\u001b[0;32m/usr/local/lib/python3.10/dist-packages/pandas/io/parsers/readers.py\u001b[0m in \u001b[0;36m_read\u001b[0;34m(filepath_or_buffer, kwds)\u001b[0m\n\u001b[1;32m    618\u001b[0m \u001b[0;34m\u001b[0m\u001b[0m\n\u001b[1;32m    619\u001b[0m     \u001b[0;31m# Create the parser.\u001b[0m\u001b[0;34m\u001b[0m\u001b[0;34m\u001b[0m\u001b[0m\n\u001b[0;32m--> 620\u001b[0;31m     \u001b[0mparser\u001b[0m \u001b[0;34m=\u001b[0m \u001b[0mTextFileReader\u001b[0m\u001b[0;34m(\u001b[0m\u001b[0mfilepath_or_buffer\u001b[0m\u001b[0;34m,\u001b[0m \u001b[0;34m**\u001b[0m\u001b[0mkwds\u001b[0m\u001b[0;34m)\u001b[0m\u001b[0;34m\u001b[0m\u001b[0;34m\u001b[0m\u001b[0m\n\u001b[0m\u001b[1;32m    621\u001b[0m \u001b[0;34m\u001b[0m\u001b[0m\n\u001b[1;32m    622\u001b[0m     \u001b[0;32mif\u001b[0m \u001b[0mchunksize\u001b[0m \u001b[0;32mor\u001b[0m \u001b[0miterator\u001b[0m\u001b[0;34m:\u001b[0m\u001b[0;34m\u001b[0m\u001b[0;34m\u001b[0m\u001b[0m\n",
            "\u001b[0;32m/usr/local/lib/python3.10/dist-packages/pandas/io/parsers/readers.py\u001b[0m in \u001b[0;36m__init__\u001b[0;34m(self, f, engine, **kwds)\u001b[0m\n\u001b[1;32m   1618\u001b[0m \u001b[0;34m\u001b[0m\u001b[0m\n\u001b[1;32m   1619\u001b[0m         \u001b[0mself\u001b[0m\u001b[0;34m.\u001b[0m\u001b[0mhandles\u001b[0m\u001b[0;34m:\u001b[0m \u001b[0mIOHandles\u001b[0m \u001b[0;34m|\u001b[0m \u001b[0;32mNone\u001b[0m \u001b[0;34m=\u001b[0m \u001b[0;32mNone\u001b[0m\u001b[0;34m\u001b[0m\u001b[0;34m\u001b[0m\u001b[0m\n\u001b[0;32m-> 1620\u001b[0;31m         \u001b[0mself\u001b[0m\u001b[0;34m.\u001b[0m\u001b[0m_engine\u001b[0m \u001b[0;34m=\u001b[0m \u001b[0mself\u001b[0m\u001b[0;34m.\u001b[0m\u001b[0m_make_engine\u001b[0m\u001b[0;34m(\u001b[0m\u001b[0mf\u001b[0m\u001b[0;34m,\u001b[0m \u001b[0mself\u001b[0m\u001b[0;34m.\u001b[0m\u001b[0mengine\u001b[0m\u001b[0;34m)\u001b[0m\u001b[0;34m\u001b[0m\u001b[0;34m\u001b[0m\u001b[0m\n\u001b[0m\u001b[1;32m   1621\u001b[0m \u001b[0;34m\u001b[0m\u001b[0m\n\u001b[1;32m   1622\u001b[0m     \u001b[0;32mdef\u001b[0m \u001b[0mclose\u001b[0m\u001b[0;34m(\u001b[0m\u001b[0mself\u001b[0m\u001b[0;34m)\u001b[0m \u001b[0;34m->\u001b[0m \u001b[0;32mNone\u001b[0m\u001b[0;34m:\u001b[0m\u001b[0;34m\u001b[0m\u001b[0;34m\u001b[0m\u001b[0m\n",
            "\u001b[0;32m/usr/local/lib/python3.10/dist-packages/pandas/io/parsers/readers.py\u001b[0m in \u001b[0;36m_make_engine\u001b[0;34m(self, f, engine)\u001b[0m\n\u001b[1;32m   1878\u001b[0m                 \u001b[0;32mif\u001b[0m \u001b[0;34m\"b\"\u001b[0m \u001b[0;32mnot\u001b[0m \u001b[0;32min\u001b[0m \u001b[0mmode\u001b[0m\u001b[0;34m:\u001b[0m\u001b[0;34m\u001b[0m\u001b[0;34m\u001b[0m\u001b[0m\n\u001b[1;32m   1879\u001b[0m                     \u001b[0mmode\u001b[0m \u001b[0;34m+=\u001b[0m \u001b[0;34m\"b\"\u001b[0m\u001b[0;34m\u001b[0m\u001b[0;34m\u001b[0m\u001b[0m\n\u001b[0;32m-> 1880\u001b[0;31m             self.handles = get_handle(\n\u001b[0m\u001b[1;32m   1881\u001b[0m                 \u001b[0mf\u001b[0m\u001b[0;34m,\u001b[0m\u001b[0;34m\u001b[0m\u001b[0;34m\u001b[0m\u001b[0m\n\u001b[1;32m   1882\u001b[0m                 \u001b[0mmode\u001b[0m\u001b[0;34m,\u001b[0m\u001b[0;34m\u001b[0m\u001b[0;34m\u001b[0m\u001b[0m\n",
            "\u001b[0;32m/usr/local/lib/python3.10/dist-packages/pandas/io/common.py\u001b[0m in \u001b[0;36mget_handle\u001b[0;34m(path_or_buf, mode, encoding, compression, memory_map, is_text, errors, storage_options)\u001b[0m\n\u001b[1;32m    871\u001b[0m         \u001b[0;32mif\u001b[0m \u001b[0mioargs\u001b[0m\u001b[0;34m.\u001b[0m\u001b[0mencoding\u001b[0m \u001b[0;32mand\u001b[0m \u001b[0;34m\"b\"\u001b[0m \u001b[0;32mnot\u001b[0m \u001b[0;32min\u001b[0m \u001b[0mioargs\u001b[0m\u001b[0;34m.\u001b[0m\u001b[0mmode\u001b[0m\u001b[0;34m:\u001b[0m\u001b[0;34m\u001b[0m\u001b[0;34m\u001b[0m\u001b[0m\n\u001b[1;32m    872\u001b[0m             \u001b[0;31m# Encoding\u001b[0m\u001b[0;34m\u001b[0m\u001b[0;34m\u001b[0m\u001b[0m\n\u001b[0;32m--> 873\u001b[0;31m             handle = open(\n\u001b[0m\u001b[1;32m    874\u001b[0m                 \u001b[0mhandle\u001b[0m\u001b[0;34m,\u001b[0m\u001b[0;34m\u001b[0m\u001b[0;34m\u001b[0m\u001b[0m\n\u001b[1;32m    875\u001b[0m                 \u001b[0mioargs\u001b[0m\u001b[0;34m.\u001b[0m\u001b[0mmode\u001b[0m\u001b[0;34m,\u001b[0m\u001b[0;34m\u001b[0m\u001b[0;34m\u001b[0m\u001b[0m\n",
            "\u001b[0;31mFileNotFoundError\u001b[0m: [Errno 2] No such file or directory: './dataset/customers_dataset.csv'"
          ]
        }
      ],
      "source": [
        "# load semua file dari dataset\n",
        "customers_df = pd.read_csv('./dataset/customers_dataset.csv')\n",
        "geolocation_df = pd.read_csv('./dataset/geolocation_dataset.csv')\n",
        "order_items_df = pd.read_csv('./dataset/order_items_dataset.csv')\n",
        "order_payments_df = pd.read_csv('./dataset/order_payments_dataset.csv')\n",
        "order_reviews_df = pd.read_csv('./dataset/order_reviews_dataset.csv')\n",
        "orders_df = pd.read_csv('./dataset/orders_dataset.csv')\n",
        "product_category_name_translation_df = pd.read_csv('./dataset/product_category_name_translation.csv')\n",
        "products_df = pd.read_csv('./dataset/products_dataset.csv')\n",
        "sellers_df = pd.read_csv('./dataset/sellers_dataset.csv')"
      ]
    },
    {
      "cell_type": "markdown",
      "metadata": {
        "id": "CSGShwOD7qPF"
      },
      "source": [
        "#### Customers Dataset"
      ]
    },
    {
      "cell_type": "code",
      "execution_count": null,
      "metadata": {
        "id": "BjfbPzUM7qPG"
      },
      "outputs": [],
      "source": [
        "customers_df"
      ]
    },
    {
      "cell_type": "markdown",
      "metadata": {
        "id": "8bZNjNkF7qPG"
      },
      "source": [
        "**Insights**\n",
        "***\n",
        "1. Identifikasi kolom:\n",
        "    - **customer_id**: primary key untuk setiap order yang dibuat suatu customer\n",
        "    - **customer_unique_id**: primary key setiap customer\n",
        "    - customer_zip_code_prefix, customer_city, dan customer_state berkaitan dengan geolocation dataset yang menunjukkan informasi wilayah geografis dari setiap customer\n",
        "2. **Customers Dataset** berisi 99.441 baris data dengan 5 kolom"
      ]
    },
    {
      "cell_type": "markdown",
      "metadata": {
        "id": "-NPzdaZx7qPH"
      },
      "source": [
        "#### Geolocation Dataset"
      ]
    },
    {
      "cell_type": "code",
      "execution_count": null,
      "metadata": {
        "id": "GChq1lI47qPH"
      },
      "outputs": [],
      "source": [
        "geolocation_df"
      ]
    },
    {
      "cell_type": "markdown",
      "metadata": {
        "id": "XtB9Bw0M7qPH"
      },
      "source": [
        "**Insights**\n",
        "***\n",
        "1. Identifikasi kolom:\n",
        "    - Semua kolom pada tabel ini berkaitan dengan informasi geografis yang nantinya bisa digunakan untuk berelasi dengan tabel **customers_df**, **sellers_df**, ataupun tabel-tabel lain yang memuat informasi geografis\n",
        "    - Primary key *geolocation_zip_code_prefix* pada Tabel ini dapat digunakan untuk menggabungkan (join) tabel ini dengan tabel-tabel lain yang memiliki foreign key berupa *zip_code* yang sama dengan tabel ini\n",
        "2. Jumlah data pada geolocation dataset yaitu 1.000.163 baris dengan 5 atribut"
      ]
    },
    {
      "cell_type": "markdown",
      "metadata": {
        "id": "rzTUOV4Q7qPI"
      },
      "source": [
        "#### Order Items Dataset"
      ]
    },
    {
      "cell_type": "code",
      "execution_count": null,
      "metadata": {
        "id": "H5-mKRK77qPI"
      },
      "outputs": [],
      "source": [
        "order_items_df"
      ]
    },
    {
      "cell_type": "code",
      "execution_count": null,
      "metadata": {
        "id": "FwGgj5rd7qPI"
      },
      "outputs": [],
      "source": [
        "order_items_df[\n",
        "    order_items_df['order_id']==\"ffb9a9cd00c74c11c24aa30b3d78e03b\"\n",
        "]"
      ]
    },
    {
      "cell_type": "markdown",
      "metadata": {
        "id": "pknOgNU_7qPI"
      },
      "source": [
        "**Insights**\n",
        "1. Identifikasi kolom:\n",
        "    - _order_id_ berkaitan dengan primary key setiap order yang dibuat pada tabel **customers_df** kolom *customer_id*\n",
        "    - *order_item_id*: berkaitan dengan primary key dari setiap item yang dipesan untuk suatu *order_id*. Nilai order_item_id dari setiap order dimulai dari indeks 1 (sequential number identifying number of items included in the same order.)\n",
        "    - _product_id_ berkaitan dengan product yang dipesan yang kaitannya dengan tabel Products Dataset\n",
        "    - _seller_id_ berkaitan dengan penjual dari product\n",
        "    - *shipping_limit_date*: batas waktu kapan product tersebut mesti di shipping\n",
        "    - *price*: harga product tersebut\n",
        "    - *freight_value*: biaya pengiriman untuk product tersebut\n",
        "2. Jumlah data pada order items dataset yaitu 112650 baris dengan 7 atribut"
      ]
    },
    {
      "cell_type": "markdown",
      "metadata": {
        "id": "NmVe2VkC7qPI"
      },
      "source": [
        "#### Order Payments Dataset"
      ]
    },
    {
      "cell_type": "code",
      "execution_count": null,
      "metadata": {
        "id": "X7N5w4uo7qPJ"
      },
      "outputs": [],
      "source": [
        "order_payments_df"
      ]
    },
    {
      "cell_type": "markdown",
      "metadata": {
        "id": "NkgA1fVZ7qPJ"
      },
      "source": [
        "**Insights** <br>\n",
        "1. Identifikasi kolom:\n",
        "    - *order_id*: primary key dari setiap order yang terbentuk\n",
        "    - *payment_sequential*: Seorang pelanggan dapat membayar pesanan dengan lebih dari satu metode pembayaran. Jika dia melakukannya, urutan pembayaran akan dibuat untuk\n",
        "    - *payment_type*: tipe pembayaran\n",
        "    - *payment_installments*: jumlah angsuran yang dipilih oleh pelanggan.\n",
        "    - *payment_value*: nilai transaksi yang dilakukan\n",
        "2. Jumlah data pada order payments dataset yaitu 103886 baris dengan 5 atribut"
      ]
    },
    {
      "cell_type": "markdown",
      "metadata": {
        "id": "SZCLXGjN7qPJ"
      },
      "source": [
        "#### Order Reviews Dataset"
      ]
    },
    {
      "cell_type": "code",
      "execution_count": null,
      "metadata": {
        "id": "HkBHDLwr7qPL"
      },
      "outputs": [],
      "source": [
        "order_reviews_df"
      ]
    },
    {
      "cell_type": "markdown",
      "metadata": {
        "id": "pz6AvcWn7qPM"
      },
      "source": [
        "**Insights** <br>\n",
        "1. Identifikasi kolom:\n",
        "    - *review_id*: primary key dari setiap review yang diberikan untuk suatu order\n",
        "    - *order_id*: primary key dari setiap order\n",
        "    - *review_score*: skala review yang diberikan\n",
        "    - *review_comment_title*: judul komentar review yang diberikan\n",
        "    - *review_comment_message*: pesan review teks yang diberikan\n",
        "    - *review_creation_date*: informasi tanggal dan waktu kapan review tersebut dibuat\n",
        "    - *review_answer_timestamps*: informasi tanggal dan waktu kapan review tersebut dijawab\n",
        "2. Jumlah data pada order reviews dataset yaitu 99224 baris dengan 7 atribut"
      ]
    },
    {
      "cell_type": "markdown",
      "metadata": {
        "id": "gsx5vXZt7qPM"
      },
      "source": [
        "#### Order Dataset"
      ]
    },
    {
      "cell_type": "code",
      "execution_count": null,
      "metadata": {
        "id": "rcXJvmEm7qPM"
      },
      "outputs": [],
      "source": [
        "orders_df"
      ]
    },
    {
      "cell_type": "markdown",
      "metadata": {
        "id": "nByt_uAI7qPM"
      },
      "source": [
        "**Insights** <br>\n",
        "1. Identifikasi kolom\n",
        "    - Kolom *order_id* memiliki relasi dengan order yang dilakukan oleh setiap customer dan merupakan primary key\n",
        "    - Kolom *customer_id* memiliki relasi dengan tabel customer dataset\n",
        "    - Kolom *order_status* status dari order yang dilakukan customer\n",
        "    - Kolom-kolom seperti *order_purchase_timestamp*, *order_approved_at*, *order_delivered_carrier_date*, *order_delivered_customer_date*, *order_estimated_delivery_date* berkaitan dengan informasi date time mengenai status order mulai dari transaksi dibayarkan hingga sampai ke customer\n",
        "2. Jumlah data pada order dataset yaitu 99441 baris dengan 8 atribut"
      ]
    },
    {
      "cell_type": "markdown",
      "metadata": {
        "id": "VDf0p-5q7qPM"
      },
      "source": [
        "#### Product Category Name Translation Dataset"
      ]
    },
    {
      "cell_type": "code",
      "execution_count": null,
      "metadata": {
        "id": "ZUnt2v9B7qPN"
      },
      "outputs": [],
      "source": [
        "product_category_name_translation_df"
      ]
    },
    {
      "cell_type": "markdown",
      "metadata": {
        "id": "9z_SnRRs7qPN"
      },
      "source": [
        "**Insights** <br>\n",
        "1. Identifikasi kolom:\n",
        "    - *product_category_name*: nama kategori produk (dalam bahasa Brasil) sesuai pada Tabel **products_df**\n",
        "    - *product_category_name_english*: nama kategori produk dalam bahasa Inggris\n",
        "2. Jumlah data pada product category name translation dataset yaitu 71 baris dengan 2 atribut"
      ]
    },
    {
      "cell_type": "markdown",
      "metadata": {
        "id": "pw7Umua07qPN"
      },
      "source": [
        "#### Products Dataset"
      ]
    },
    {
      "cell_type": "code",
      "execution_count": null,
      "metadata": {
        "id": "-tWjl5af7qPN"
      },
      "outputs": [],
      "source": [
        "products_df"
      ]
    },
    {
      "cell_type": "markdown",
      "metadata": {
        "id": "X348L3sK7qPO"
      },
      "source": [
        "**Insights** <br>\n",
        "1. Identifikasi kolom:\n",
        "    - *product_id*: primary key dari setiap product\n",
        "    - *product_category_name*: category dari product\n",
        "    - sisa kolom menunjukkan deskripsi mengenai product tersebut, mulai dari panjang nama, panjang deskripsi produk, banyak foto dari product tersebut, dimensi product, massa product\n",
        "2. Jumlah data pada products dataset yaitu 32951 baris dengan 9 atribut"
      ]
    },
    {
      "cell_type": "markdown",
      "metadata": {
        "id": "YzbIJBkE7qPO"
      },
      "source": [
        "#### Sellers Dataset"
      ]
    },
    {
      "cell_type": "code",
      "execution_count": null,
      "metadata": {
        "id": "byugMK2v7qPO"
      },
      "outputs": [],
      "source": [
        "sellers_df"
      ]
    },
    {
      "cell_type": "markdown",
      "metadata": {
        "id": "MMi6xGaDkbCi"
      },
      "source": [
        "**Insight:**\n",
        "1. Identifikasi kolom:\n",
        "    - *seller_id*: primary key untuk setiap penjual\n",
        "    - *seller_zip_code_prefix*, *seller_city*, dan *seller_state* berkaitan dengan informasi geografis dari penjual\n",
        "2. Jumlah data pada products dataset yaitu 3095 baris dengan 4 atribut"
      ]
    },
    {
      "cell_type": "markdown",
      "metadata": {
        "id": "FHSiqaZp8DC1"
      },
      "source": [
        "### Assessing Data"
      ]
    },
    {
      "cell_type": "code",
      "execution_count": null,
      "metadata": {
        "id": "CHdP-y3U7qPT"
      },
      "outputs": [],
      "source": [
        "tables_df = {\n",
        "    'Customer': customers_df,\n",
        "    'Geolocation': geolocation_df,\n",
        "    \"Order Items\": order_items_df,\n",
        "    \"Order Payments\": order_payments_df,\n",
        "    \"Order Reviews\": order_reviews_df,\n",
        "    \"Order\": orders_df,\n",
        "    \"Product Category Name Translation\": product_category_name_translation_df,\n",
        "    \"Product Dataset\": products_df,\n",
        "    \"Seller\": sellers_df,\n",
        "}"
      ]
    },
    {
      "cell_type": "markdown",
      "metadata": {
        "id": "Qf8aN_Sg7qPT"
      },
      "source": [
        "#### Check missing values"
      ]
    },
    {
      "cell_type": "code",
      "execution_count": null,
      "metadata": {
        "id": "nLmYibLf7qPe"
      },
      "outputs": [],
      "source": [
        "def check_missing_values(df, table_title):\n",
        "    print(f\"\\t\\tMissing values pada tabel {table_title}\")\n",
        "    print(df.isnull().sum())\n",
        "    print(\"=\"*30)\n",
        "\n",
        "for table_title, df in tables_df.items():\n",
        "    check_missing_values(df, table_title)"
      ]
    },
    {
      "cell_type": "markdown",
      "metadata": {
        "id": "NqjugXeF7qPe"
      },
      "source": [
        "**Insights** <br>\n",
        "- Dari hasil pengecekan missing values (**NaN**), terdapat beberapa tabel yang memuat missing values, diantaranya:\n",
        "    - Order Reviews\n",
        "    - Products"
      ]
    },
    {
      "cell_type": "markdown",
      "metadata": {
        "id": "fCUe_1et7qPf"
      },
      "source": [
        "#### Check duplicate values"
      ]
    },
    {
      "cell_type": "code",
      "execution_count": null,
      "metadata": {
        "id": "Ue87GhWW7qPf"
      },
      "outputs": [],
      "source": [
        "def check_duplicate_values(df, table_title):\n",
        "    print(f\"\\t\\tDuplicate values pada tabel {table_title}\")\n",
        "    print(f\"Jumlah data duplikat: {df.duplicated().sum()}\")\n",
        "    print(\"=\"*30)\n",
        "\n",
        "for table_title, df in tables_df.items():\n",
        "    check_duplicate_values(df, table_title)"
      ]
    },
    {
      "cell_type": "markdown",
      "metadata": {
        "id": "kgmzOKWG7qPf"
      },
      "source": [
        "**Insights** <br>\n",
        "- Terdapat data duplikat pada tabel **Geolocation**"
      ]
    },
    {
      "cell_type": "markdown",
      "metadata": {
        "id": "1zsH2tfM7qPf"
      },
      "source": [
        "#### Check invalid values"
      ]
    },
    {
      "cell_type": "code",
      "execution_count": null,
      "metadata": {
        "scrolled": false,
        "id": "BKkphSqs7qPg"
      },
      "outputs": [],
      "source": [
        "def check_data_types(df, table_title):\n",
        "    print(f\"\\t\\tData types pada tabel {table_title}\")\n",
        "    print(df.info())\n",
        "    print(\"=\"*30)\n",
        "\n",
        "for table_title, df in tables_df.items():\n",
        "    check_data_types(df, table_title)"
      ]
    },
    {
      "cell_type": "markdown",
      "metadata": {
        "id": "Ac-eXw9X7qPg"
      },
      "source": [
        "**Insights** <br>\n",
        "- Hampir semua kolom pada setiap tabel memiliki format tipe data yang telah sesuai dengan nilai pada masing-masing kolom. Namun terdapat beberapa kolom dengan tipe data yang belum sesuai:\n",
        "    - Kolom **review_creation_date** dan **review_answer_timestamp** pada Tabel **Order Reviews** seharusnya memiliki tipe data datetime, begitupun untuk kolom **shipping_limit_date** pada Tabel **Order Items** dan juga kolom **order_approved_at**, **order_delivered_carrier_date** dst pada Tabel Order"
      ]
    },
    {
      "cell_type": "markdown",
      "metadata": {
        "id": "Em9slswA7qPg"
      },
      "source": [
        "#### Check outliers"
      ]
    },
    {
      "cell_type": "code",
      "execution_count": null,
      "metadata": {
        "id": "GflUaMow7qPg"
      },
      "outputs": [],
      "source": [
        "# Set the aesthetic style of the plots\n",
        "sns.set(style=\"whitegrid\")\n",
        "def check_outliers(df, table_title, columns_to_show):\n",
        "    # Create a figure with subplots for each numerical column\n",
        "    plt.figure(figsize=(12, 8))\n",
        "    # Create boxplots for each numerical column\n",
        "    for i, column in enumerate(df[columns_to_show].columns):\n",
        "        plt.subplot(3, 3, i + 1)  # Adjust the number of rows and columns based on your data\n",
        "        sns.boxplot(x=df[column])\n",
        "        plt.title(f'Boxplot of {column}')\n",
        "        plt.xlabel(column)\n",
        "\n",
        "    plt.suptitle(f\"Outliers pada tabel {table_title}\")\n",
        "\n",
        "    plt.tight_layout()\n",
        "    plt.show()\n",
        "    print(\"=\"*30)"
      ]
    },
    {
      "cell_type": "code",
      "execution_count": null,
      "metadata": {
        "scrolled": false,
        "id": "u6BeIKbs7qPg"
      },
      "outputs": [],
      "source": [
        "table_title_columns_df = {\n",
        "    \"Order Items\": ['price', 'freight_value'],\n",
        "    \"Order Payments\": ['payment_value', 'payment_installments'],\n",
        "    \"Order Reviews\": ['review_score'],\n",
        "    \"Product Dataset\": products_df.select_dtypes(include=['float64', 'int64']).columns,\n",
        "}\n",
        "for table_title, df in tables_df.items():\n",
        "    if table_title in table_title_columns_df:\n",
        "        check_outliers(df, table_title, table_title_columns_df[table_title])"
      ]
    },
    {
      "cell_type": "markdown",
      "metadata": {
        "id": "7dtxhAPrkhPL"
      },
      "source": [
        "**Insight:**\n",
        "- Terlihat bahwa kolom numerik pada masing-masing tabel yang dicek terdapat outliers.\n",
        "- Semua outliers pada kolom numerik pada masing-masing tabel tidak akan ditangani ataupun dihapus karena tujuan projek ini hanya analisis aja dan tidak membangun sebuah model prediksi dimana keberadaan outliers dapat mengganggu performa model.\n",
        "- Ketika outliers itu dihapus akan mempengaruhi hasil analisis yang terjadi karena jumlah outliers pada masing-masing kolom cukup banyak (kepadatan titik hitam), sehingga jika nilai-nilai tersebut dihapus atau diubah maka mempengaruhi hasil analisis"
      ]
    },
    {
      "cell_type": "markdown",
      "metadata": {
        "id": "EhN5R4hr8DC1"
      },
      "source": [
        "### Cleaning Data"
      ]
    },
    {
      "cell_type": "markdown",
      "metadata": {
        "id": "BtZVPIB47qPh"
      },
      "source": [
        "#### Change Data Types"
      ]
    },
    {
      "cell_type": "code",
      "execution_count": null,
      "metadata": {
        "id": "LzXUsJ0-7qPh"
      },
      "outputs": [],
      "source": [
        "# convert column to datetime data type\n",
        "order_items_df['shipping_limit_date'] = pd.to_datetime(order_items_df['shipping_limit_date'])\n",
        "\n",
        "order_reviews_df['review_creation_date'] = pd.to_datetime(\n",
        "    order_reviews_df['review_creation_date'],\n",
        "    format='%Y-%m-%d', errors='coerce'\n",
        ")\n",
        "order_reviews_df['review_answer_timestamp'] = pd.to_datetime(\n",
        "    order_reviews_df['review_answer_timestamp'],\n",
        "    format='%Y-%m-%d %H:%M:%S', errors='coerce'\n",
        ")\n",
        "\n",
        "orders_df['order_purchase_timestamp'] = pd.to_datetime(orders_df['order_purchase_timestamp'])\n",
        "orders_df['order_approved_at'] = pd.to_datetime(orders_df['order_approved_at'])\n",
        "orders_df['order_delivered_carrier_date'] = pd.to_datetime(orders_df['order_delivered_carrier_date'])\n",
        "orders_df['order_delivered_customer_date'] = pd.to_datetime(orders_df['order_delivered_customer_date'])\n",
        "orders_df['order_estimated_delivery_date'] = pd.to_datetime(orders_df['order_estimated_delivery_date'])"
      ]
    },
    {
      "cell_type": "code",
      "execution_count": null,
      "metadata": {
        "id": "zXag_UBk7qPi"
      },
      "outputs": [],
      "source": [
        "check_data_types(orders_df, 'Order')"
      ]
    },
    {
      "cell_type": "code",
      "execution_count": null,
      "metadata": {
        "id": "ThM5q-TC7qPi"
      },
      "outputs": [],
      "source": [
        "check_data_types(order_reviews_df, 'Order Reviews')"
      ]
    },
    {
      "cell_type": "code",
      "execution_count": null,
      "metadata": {
        "id": "O7Tkj3rp7qPi"
      },
      "outputs": [],
      "source": [
        "check_data_types(order_items_df, 'Order Items')"
      ]
    },
    {
      "cell_type": "markdown",
      "metadata": {
        "id": "4R2R5Bvu7qPi"
      },
      "source": [
        "**Insights** <br>\n",
        "- Kolom-kolom pada ketiga tabel tersebut yang seharusnya bertipe datetime kini sudah memiliki tipe data datetime"
      ]
    },
    {
      "cell_type": "markdown",
      "metadata": {
        "id": "EXQI40mK7qPj"
      },
      "source": [
        "#### Handling missing values"
      ]
    },
    {
      "cell_type": "markdown",
      "metadata": {
        "id": "_lY72dbv7qPj"
      },
      "source": [
        "##### Inputing missing values on Products Table\n",
        "***\n",
        "**Descriptions** <br>\n",
        "- Nilai missing values pada tabel product sebesar **612** data relatif lebih sedikit dibandingkan jumlah seluruh baris data pada tabel Product yaitu **32.951**. Dibandingkan membuat nilai missing values tersebut, pada projek kali ini akan dilakukan teknik **Imputation**\n",
        "- Missing values yang terdapat pada tabel ini terletak pada kolom dengan categorical (product_category_name) dan numerical (product_name_lenght, product_description_length, product_photos_qty, product_weight_g, product_length_cm, product_height_cm, product_width_cm)\n",
        "- Missing values pada kolom kategorikal akan diisi dengan nilai modus dari kolom tersebut dan missing value pada kolom numerikal akan diisi dengan teknik interpolation"
      ]
    },
    {
      "cell_type": "code",
      "execution_count": null,
      "metadata": {
        "id": "n9jeexIf7qPj"
      },
      "outputs": [],
      "source": [
        "products_categorical_columns = ['product_category_name']\n",
        "products_numerical_columns = [\n",
        "    'product_name_lenght',\n",
        "    'product_description_lenght',\n",
        "    'product_photos_qty',\n",
        "    'product_weight_g',\n",
        "    'product_length_cm',\n",
        "    'product_height_cm', 'product_width_cm'\n",
        "]"
      ]
    },
    {
      "cell_type": "code",
      "execution_count": null,
      "metadata": {
        "id": "gkR2YQ_e7qPj"
      },
      "outputs": [],
      "source": [
        "# imputation with mode\n",
        "for cat_column in products_categorical_columns:\n",
        "    products_df[cat_column].fillna(value=products_df[cat_column].mode().values[0], inplace=True)"
      ]
    },
    {
      "cell_type": "code",
      "execution_count": null,
      "metadata": {
        "id": "yP8DdMfA7qPk"
      },
      "outputs": [],
      "source": [
        "# imputation with interpolation\n",
        "for num_column in products_numerical_columns:\n",
        "    products_df[num_column].interpolate(method='linear', limit_direction='forward', inplace=True)"
      ]
    },
    {
      "cell_type": "code",
      "execution_count": null,
      "metadata": {
        "id": "NZLGp5AP7qPk"
      },
      "outputs": [],
      "source": [
        "check_missing_values(products_df, 'Products')"
      ]
    },
    {
      "cell_type": "markdown",
      "metadata": {
        "id": "qgVOryGn7qPk"
      },
      "source": [
        "Sudah tidak ada missing values pada tabel **Products**"
      ]
    },
    {
      "cell_type": "markdown",
      "metadata": {
        "id": "tHD3cyym7qPk"
      },
      "source": [
        "##### Missing values on Table Order Reviews\n",
        "***\n",
        "- Missing value pada tabel order reviews tidak dilakukan penanganan apa-apa karena mayoritas missing values terletak pada kolom **review_comment_title** dan **review_comment_message**. Apabila data tersebut dihapus cukup banyak informasi yang hilang.\n",
        "- Yang terpenting adalah kolom **review_score** untuk sementara tidak terdapat missing values"
      ]
    },
    {
      "cell_type": "code",
      "execution_count": null,
      "metadata": {
        "id": "G8WZawFd7qPk"
      },
      "outputs": [],
      "source": [
        "order_reviews_df"
      ]
    },
    {
      "cell_type": "markdown",
      "metadata": {
        "id": "jVnYpprE9Evz"
      },
      "source": [
        "#### Remove duplicate values\n",
        "***\n",
        "Proses ini hanya dilakukan untuk tabel **Geolocation** karena tabel tersebut saja yang mengandung data duplikat"
      ]
    },
    {
      "cell_type": "code",
      "execution_count": null,
      "metadata": {
        "id": "IYxBBbZD7qPl"
      },
      "outputs": [],
      "source": [
        "geolocation_df.drop_duplicates(inplace=True)"
      ]
    },
    {
      "cell_type": "code",
      "execution_count": null,
      "metadata": {
        "id": "Vt2azo6C7qPl"
      },
      "outputs": [],
      "source": [
        "check_duplicate_values(geolocation_df, 'Geolocation')"
      ]
    },
    {
      "cell_type": "markdown",
      "metadata": {
        "id": "Q_5ejIqckiSP"
      },
      "source": [
        "**Insight:**\n",
        "- Dari proses tersebut sudah tidak ada data duplikat pada tabel **Geolocation**"
      ]
    },
    {
      "cell_type": "markdown",
      "metadata": {
        "id": "NFoYQT9A7qPm"
      },
      "source": [
        "#### Handling Outliers Values\n",
        "***\n",
        "- Outliers pada hasil pengecekan sebelumnya tidak akan ditangani apapun pada tahap ini karena tujuannya untuk mempertahankan keaslian data dan tidak mempengaruhi hasil analisis nantinya. Lagipula pada project kali ini belum diperuntukkan untuk membangun model prediksi berbasis machine learning dimana keberadaan outliers mungkin perlu diperhitungkan"
      ]
    },
    {
      "cell_type": "markdown",
      "metadata": {
        "id": "gp-Y6wU38DC1"
      },
      "source": [
        "## Exploratory Data Analysis (EDA)\n",
        "***"
      ]
    },
    {
      "cell_type": "markdown",
      "metadata": {
        "id": "MW7WF2kr8DC1"
      },
      "source": [
        "### EDA on Customers"
      ]
    },
    {
      "cell_type": "markdown",
      "metadata": {
        "id": "pGpO5Tf07qPm"
      },
      "source": [
        "#### Quest: Customer paling banyak dan sedikit berasal dari city dan negara apa?"
      ]
    },
    {
      "cell_type": "code",
      "execution_count": null,
      "metadata": {
        "id": "Ht4k3lgo7qPm"
      },
      "outputs": [],
      "source": [
        "# karena customer_unique_id bisa melakukan beberapa kali transaksi (customer_id), maka data perlu digrup berdasarkan customer_unique_id juga\n",
        "city_state_customer_counts = customers_df.groupby(['customer_unique_id','customer_city', 'customer_state'])[['customer_id']].count().reset_index()[\n",
        "    ['customer_city', 'customer_state']\n",
        "].value_counts()"
      ]
    },
    {
      "cell_type": "code",
      "execution_count": null,
      "metadata": {
        "id": "LZNmuQYz7qPn"
      },
      "outputs": [],
      "source": [
        "# 10 city dan state dengan customer terbanyak\n",
        "city_state_customer_counts.head(10)"
      ]
    },
    {
      "cell_type": "markdown",
      "metadata": {
        "id": "L42tYIvl7qPn"
      },
      "source": [
        "Dari sini terlihat jelas bahwa *sao paulo (SP)*, *rio de janeiro (RJ)* dan seterusnya menjadi 10 city dan state dengan customer terbanyak"
      ]
    },
    {
      "cell_type": "code",
      "execution_count": null,
      "metadata": {
        "id": "mVbU_2647qPn"
      },
      "outputs": [],
      "source": [
        "# 10 city dan state dengan customer paling sedikit\n",
        "city_state_customer_counts.tail(10)"
      ]
    },
    {
      "cell_type": "markdown",
      "metadata": {
        "id": "DN74IKKC7qPn"
      },
      "source": [
        "Dari sini terlihat jelas bahwa *santa maria (RN)*, *santa clara d'oeste (SP)* dan seterusnya menjadi 10 city dan state dengan customer paling sedikit"
      ]
    },
    {
      "cell_type": "markdown",
      "metadata": {
        "id": "Rwan8GOl7qPo"
      },
      "source": [
        "#### Quest: CustomerID siapa yang paling banyak melakukan order? Berasal dari mana dia?"
      ]
    },
    {
      "cell_type": "code",
      "execution_count": null,
      "metadata": {
        "id": "49oEvBhy7qPo"
      },
      "outputs": [],
      "source": [
        "customer_unique_id_with_most_transactions = customers_df.groupby('customer_unique_id')['customer_id'].count().reset_index().sort_values(by='customer_id', ascending=False).reset_index(drop=True).loc[0,'customer_unique_id']\n",
        "customer_unique_id_with_most_transactions"
      ]
    },
    {
      "cell_type": "code",
      "execution_count": null,
      "metadata": {
        "id": "YcOiz4yx7qPo"
      },
      "outputs": [],
      "source": [
        "# cari tahu city dan state dari customer tersebut\n",
        "customers_df[\n",
        "    customers_df['customer_unique_id']==customer_unique_id_with_most_transactions\n",
        "]"
      ]
    },
    {
      "cell_type": "markdown",
      "metadata": {
        "id": "x_p_1X6s7qPo"
      },
      "source": [
        "Terlihat bahwa customer dengan ID = *8d50f5eadf50201ccdcedfb9e2ac8455* melakukan total transaksi sebanyak 17 kali berasal dari **Sao Paulo** dengan negara **SP**"
      ]
    },
    {
      "cell_type": "markdown",
      "metadata": {
        "id": "locdqsCl7qPo"
      },
      "source": [
        "### EDA on Geolocation"
      ]
    },
    {
      "cell_type": "markdown",
      "metadata": {
        "id": "OABqxySM7qPp"
      },
      "source": [
        "#### Quest: Berapa banyak data geologication (lat and lng) untuk setiap city dan state?"
      ]
    },
    {
      "cell_type": "code",
      "execution_count": null,
      "metadata": {
        "id": "m7uyKbaO7qPp"
      },
      "outputs": [],
      "source": [
        "df = geolocation_df.groupby(['geolocation_city', 'geolocation_state'])['geolocation_zip_code_prefix'].count().reset_index()\n",
        "df.columns = ['city', 'state', 'count of lat and lng']\n",
        "df.sort_values(by='count of lat and lng', inplace=True, ascending=False)\n",
        "df.reset_index(drop=True, inplace=True)"
      ]
    },
    {
      "cell_type": "code",
      "execution_count": null,
      "metadata": {
        "id": "HrbSICcb7qPp"
      },
      "outputs": [],
      "source": [
        "df"
      ]
    },
    {
      "cell_type": "markdown",
      "metadata": {
        "id": "2I27wTNr7qPp"
      },
      "source": [
        "**Insights** <br>\n",
        "- Total terdapat 8.463 kombinasi city dan state\n",
        "- City bernama Sao Paulo (SP) memiliki data koordinat (lat and lng) paling banyak dari pada city dan state lainnya, yaitu sebesar **79.926** koordinat data"
      ]
    },
    {
      "cell_type": "markdown",
      "metadata": {
        "id": "exwK_gLu7qPp"
      },
      "source": [
        "### EDA on Overall Order Tables\n",
        "***\n",
        "Semua tabel yang ada kaitannya dengan **Orders** maka akan dimerge (join) terlebih dahulu sebelum dilakukan analisis lebih jauh"
      ]
    },
    {
      "cell_type": "markdown",
      "metadata": {
        "id": "y682NkjI7qPq"
      },
      "source": [
        "#### Merge overall order tables"
      ]
    },
    {
      "cell_type": "code",
      "execution_count": null,
      "metadata": {
        "id": "evEhtQIk7qPq"
      },
      "outputs": [],
      "source": [
        "overall_order_tables = pd.merge(order_items_df, order_payments_df, on='order_id', how='inner')\n",
        "overall_order_tables = pd.merge(overall_order_tables, order_reviews_df, on='order_id', how='inner')\n",
        "overall_order_tables = pd.merge(overall_order_tables, orders_df, on='order_id', how='inner')\n",
        "overall_order_tables = pd.merge(overall_order_tables, customers_df, on='customer_id', how='inner')"
      ]
    },
    {
      "cell_type": "code",
      "execution_count": null,
      "metadata": {
        "id": "tMhMo2z47qPq"
      },
      "outputs": [],
      "source": [
        "overall_order_tables"
      ]
    },
    {
      "cell_type": "code",
      "execution_count": null,
      "metadata": {
        "id": "nbPIyF7c7qPq"
      },
      "outputs": [],
      "source": [
        "# simpan data order yang telah dimerge untuk digunakan pada dashboard\n",
        "overall_order_tables.to_csv('./dashboard/merged_orders.csv', index=False)"
      ]
    },
    {
      "cell_type": "markdown",
      "metadata": {
        "id": "MXAvm_2Z7qPq"
      },
      "source": [
        "**Insights** <br>\n",
        "- Hasil penggabungan seluruh tabel orders (order_items, order_payments, order_reviews, orders) dan tabel customers dengan teknik **Inner Join** memiliki 117329 baris data dengan 28 atribut"
      ]
    },
    {
      "cell_type": "markdown",
      "metadata": {
        "id": "HQ4ET_Q_7qPr"
      },
      "source": [
        "#### Quest: Order dengan jumlah angsuran terbanyak"
      ]
    },
    {
      "cell_type": "code",
      "execution_count": null,
      "metadata": {
        "scrolled": true,
        "id": "z58AIBmU7qPr"
      },
      "outputs": [],
      "source": [
        "order_id_with_most_angsuran = overall_order_tables.groupby('order_id')[\n",
        "    ['payment_sequential']\n",
        "].count().sort_values(by='payment_sequential', ascending=False).iloc[0].name\n",
        "order_id_with_most_angsuran"
      ]
    },
    {
      "cell_type": "code",
      "execution_count": null,
      "metadata": {
        "id": "JiOWjkbS7qPs"
      },
      "outputs": [],
      "source": [
        "overall_order_tables[\n",
        "    overall_order_tables['order_id']==order_id_with_most_angsuran\n",
        "].sort_values(by='payment_sequential').shape"
      ]
    },
    {
      "cell_type": "markdown",
      "metadata": {
        "id": "c-DFObNP7qPs"
      },
      "source": [
        "**Penjelasan** <br>\n",
        "- Order id = **895ab968e7bb0d5659d16cd74cd1650c** memiliki jumlah angsuran sebesar 63 kali"
      ]
    },
    {
      "cell_type": "markdown",
      "metadata": {
        "id": "TgR5vJZA7qPs"
      },
      "source": [
        "#### Quest: Jenis/metode pembayaran yang paling banyak dilakukan"
      ]
    },
    {
      "cell_type": "code",
      "execution_count": null,
      "metadata": {
        "id": "UO-ULJB97qPs"
      },
      "outputs": [],
      "source": [
        "payment_types = overall_order_tables.groupby(['order_id', 'payment_type']).count().reset_index()['payment_type'].value_counts()\n",
        "\n",
        "# Create a bar plot\n",
        "plt.figure(figsize=(10, 6))\n",
        "sns.barplot(x=payment_types.index, y=payment_types.values, palette='green')\n",
        "\n",
        "# Add titles and labels\n",
        "plt.title('Payment Type Distribution', fontsize=16)\n",
        "plt.xlabel('Payment Type', fontsize=14)\n",
        "plt.ylabel('Count', fontsize=14)\n",
        "\n",
        "# Set y-axis to start at zero for accurate representation\n",
        "plt.ylim(0, payment_types.max() * 1.1)  # Add some space above the highest bar\n",
        "\n",
        "# Add value labels on top of each bar\n",
        "for i in range(len(payment_types)):\n",
        "    plt.text(i, payment_types.values[i] + 500, payment_types.values[i], ha='center', fontsize=12)\n",
        "\n",
        "# Improve layout and remove gridlines for clarity\n",
        "plt.grid(False)\n",
        "plt.tight_layout()\n",
        "\n",
        "# Show the plot\n",
        "plt.show()"
      ]
    },
    {
      "cell_type": "markdown",
      "metadata": {
        "id": "_qy6K0Tt7qPt"
      },
      "source": [
        "**Penjelasan** <br>\n",
        "- Kartu kredit dan Boleto menjadi dua tipe pembayaran terbanyak masing-masing sebanyak 75.408 dan 19.471 transaksi\n",
        "- Transaksi dengan kartu debit paling sedikit dilakukan"
      ]
    },
    {
      "cell_type": "markdown",
      "metadata": {
        "id": "tLlGHDaQ7qPt"
      },
      "source": [
        "#### Quest: Top-10 order dengan nilai pembayaran tertinggi dan terendah\n",
        "***"
      ]
    },
    {
      "cell_type": "code",
      "execution_count": null,
      "metadata": {
        "id": "8_n8vGk57qPt"
      },
      "outputs": [],
      "source": [
        "order_payments_with_most_payment_value = overall_order_tables.groupby(['order_id'])[['payment_value']].sum().reset_index().sort_values(by='payment_value', ascending=False)\n",
        "order_payments_with_most_payment_value"
      ]
    },
    {
      "cell_type": "markdown",
      "metadata": {
        "id": "58hcjisI7qPt"
      },
      "source": [
        "##### Top 10 order detail dengan payment tertinggi"
      ]
    },
    {
      "cell_type": "code",
      "execution_count": null,
      "metadata": {
        "id": "SFM2zrx67qPt"
      },
      "outputs": [],
      "source": [
        "df = overall_order_tables[\n",
        "    overall_order_tables['order_id'].isin(order_payments_with_most_payment_value['order_id'].head(10).values)\n",
        "][['order_id', 'product_id', 'payment_value']+list(customers_df.columns)]\n",
        "df = pd.merge(df, products_df, on='product_id', how='inner')"
      ]
    },
    {
      "cell_type": "code",
      "execution_count": null,
      "metadata": {
        "id": "pZbXEk037qPu"
      },
      "outputs": [],
      "source": [
        "df"
      ]
    },
    {
      "cell_type": "markdown",
      "metadata": {
        "id": "Im55UrZ27qPu"
      },
      "source": [
        "##### Top 10 order detail dengan payment terendah"
      ]
    },
    {
      "cell_type": "code",
      "execution_count": null,
      "metadata": {
        "id": "bK-dfYuU7qPu"
      },
      "outputs": [],
      "source": [
        "df = overall_order_tables[\n",
        "    overall_order_tables['order_id'].isin(order_payments_with_most_payment_value['order_id'].tail(10).values)\n",
        "][['order_id', 'product_id', 'payment_value']+list(customers_df.columns)]\n",
        "df = pd.merge(df, products_df, on='product_id', how='inner')"
      ]
    },
    {
      "cell_type": "code",
      "execution_count": null,
      "metadata": {
        "id": "5m6Ojoa_7qPu"
      },
      "outputs": [],
      "source": [
        "df"
      ]
    },
    {
      "cell_type": "markdown",
      "metadata": {
        "id": "50aC3tby7qPu"
      },
      "source": [
        "#### Quest: Bagaimana distribusi skor review dari seluruh order?"
      ]
    },
    {
      "cell_type": "code",
      "execution_count": null,
      "metadata": {
        "id": "xMSjU9LA7qPv"
      },
      "outputs": [],
      "source": [
        "# Create a histogram with KDE for the numerical column\n",
        "plt.figure(figsize=(10, 6))\n",
        "sns.histplot(overall_order_tables['review_score'], kde=True, bins=5,\n",
        "             color='green', edgecolor='black', alpha=0.7)\n",
        "\n",
        "# Set title and labels\n",
        "plt.title('Distribution of Review Scores', fontsize=16)\n",
        "plt.xlabel('Value', fontsize=14)\n",
        "plt.ylabel('Density', fontsize=14)\n",
        "\n",
        "# Set y-axis to start at zero for accurate representation\n",
        "plt.ylim(0)\n",
        "\n",
        "# Improve layout and remove gridlines for clarity\n",
        "plt.grid(False)\n",
        "plt.tight_layout()\n",
        "\n",
        "# Show the plot\n",
        "plt.show()"
      ]
    },
    {
      "cell_type": "markdown",
      "metadata": {
        "id": "MK8g_Bpa7qPv"
      },
      "source": [
        "**Insights** <br>\n",
        "- Skor review memiliki distribusi left-skewed\n",
        "- Sebagian besar customer memberikan skor review dalam rentang 4 sampai 5\n",
        "- Beberapa customer (tidak cenderung banyak) memberikan skor review dalam rentang 1 sampai 2"
      ]
    },
    {
      "cell_type": "markdown",
      "metadata": {
        "id": "OjMTQR837qPw"
      },
      "source": [
        "### EDA on Products"
      ]
    },
    {
      "cell_type": "markdown",
      "metadata": {
        "id": "brnASI1m7qPw"
      },
      "source": [
        "#### Quest: Bagaimana distribusi dari setiap category product?\n",
        "- Tampilkan top-20 category product yang paling banyak dan sedikit"
      ]
    },
    {
      "cell_type": "code",
      "execution_count": null,
      "metadata": {
        "id": "NF_nH-ne7qPw"
      },
      "outputs": [],
      "source": [
        "product_category_distribution = products_df['product_category_name'].value_counts().head(20)\n",
        "# Create a horizontal bar plot\n",
        "plt.figure(figsize=(10, 8))\n",
        "sns.barplot(x=product_category_distribution.values, y=product_category_distribution.index, palette='green')\n",
        "\n",
        "# Add titles and labels\n",
        "plt.title('Top 20 Product Categories Distribution', fontsize=16)\n",
        "plt.xlabel('Count', fontsize=14)\n",
        "plt.ylabel('Product Category', fontsize=14)\n",
        "\n",
        "# Set x-axis to start at zero for accurate representation\n",
        "plt.xlim(0, product_category_distribution.max() * 1.1)  # Add some space to the right of the highest bar\n",
        "\n",
        "# Add value labels on the right side of each bar\n",
        "for i in range(len(product_category_distribution)):\n",
        "    plt.text(product_category_distribution.values[i] + 50, i, product_category_distribution.values[i],\n",
        "             va='center', fontsize=12)\n",
        "\n",
        "# Improve layout and remove gridlines for clarity\n",
        "plt.grid(False)\n",
        "plt.tight_layout()\n",
        "\n",
        "# Show the plot\n",
        "plt.show()"
      ]
    },
    {
      "cell_type": "markdown",
      "metadata": {
        "id": "oDrmdlDn7qPw"
      },
      "source": [
        "**Insights** <br>\n",
        "- Dari tabel products, melalui gambar di atas dapat diketahui kategori produk terbanyak yang ditempati oleh **cama_mesa_banho** dengan 3.639 produk"
      ]
    },
    {
      "cell_type": "code",
      "execution_count": null,
      "metadata": {
        "id": "DeTwxpN97qPw"
      },
      "outputs": [],
      "source": [
        "# Select the last 20 entries\n",
        "last_20_categories = products_df['product_category_name'].value_counts().tail(20)\n",
        "\n",
        "# Create a horizontal bar plot\n",
        "plt.figure(figsize=(10, 8))\n",
        "sns.barplot(x=last_20_categories.values, y=last_20_categories.index, palette='green')\n",
        "\n",
        "# Add titles and labels\n",
        "plt.title('Bottom 20 Product Categories Distribution', fontsize=16)\n",
        "plt.xlabel('Count', fontsize=14)\n",
        "plt.ylabel('Product Category', fontsize=14)\n",
        "\n",
        "# Set x-axis to start at zero for accurate representation\n",
        "plt.xlim(0, last_20_categories.max() * 1.2)  # Add some space to the right of the highest bar\n",
        "\n",
        "# Add value labels on the right side of each bar\n",
        "for i in range(len(last_20_categories)):\n",
        "    plt.text(last_20_categories.values[i], i, last_20_categories.values[i],\n",
        "             va='center', fontsize=12)\n",
        "\n",
        "# Improve layout and remove gridlines for clarity\n",
        "plt.grid(False)\n",
        "plt.tight_layout()\n",
        "\n",
        "# Show the plot\n",
        "plt.show()"
      ]
    },
    {
      "cell_type": "markdown",
      "metadata": {
        "id": "nqI0Q6H87qPx"
      },
      "source": [
        "**Insights** <br>\n",
        "- Dari tabel products, melalui gambar di atas dapat diketahui kategori produk paling sedikit yang ditempati oleh **cds_dvds_musicais** dengan 1 produk"
      ]
    },
    {
      "cell_type": "markdown",
      "metadata": {
        "id": "IlBdczXh7qPx"
      },
      "source": [
        "#### Quest: Bagaimana distribusi volume (length x width x height) dari setiap category product?"
      ]
    },
    {
      "cell_type": "code",
      "execution_count": null,
      "metadata": {
        "id": "9lzlSyW37qPx"
      },
      "outputs": [],
      "source": [
        "# buat atribut baru bernama volume yang merupakan hasil perkalian dari panjang, lebar, dan tinggi product\n",
        "products_df['volume'] = products_df['product_length_cm'] * products_df['product_width_cm'] * products_df['product_height_cm']"
      ]
    },
    {
      "cell_type": "code",
      "execution_count": null,
      "metadata": {
        "id": "DRJIui1z7qPx"
      },
      "outputs": [],
      "source": [
        "# buat distribution dari numerical columns\n",
        "numerical_columns = [\n",
        "    'volume', 'product_length_cm', 'product_height_cm', 'product_width_cm'\n",
        "]\n",
        "\n",
        "fig, axes = plt.subplots(nrows=2, ncols=2, figsize=(12, 10))\n",
        "# Flatten the axes array for easy iteration\n",
        "axes = axes.flatten()\n",
        "\n",
        "# Create histograms with KDE for each numerical column\n",
        "for i, col in enumerate(numerical_columns):\n",
        "    sns.histplot(products_df[col], kde=True, ax=axes[i], bins=10,\n",
        "                 color='green', edgecolor='black', alpha=0.7)\n",
        "\n",
        "    # Set titles and labels\n",
        "    axes[i].set_title(f'Distribution of {col} (cm)', fontsize=14)\n",
        "    axes[i].set_xlabel(col, fontsize=12)\n",
        "    axes[i].set_ylabel('Density', fontsize=12)\n",
        "\n",
        "    # Set y-axis to start at zero for accurate representation\n",
        "    axes[i].set_ylim(0)\n",
        "\n",
        "# Improve layout and remove gridlines for clarity\n",
        "plt.tight_layout()\n",
        "plt.grid(False)\n",
        "\n",
        "# Show the plot\n",
        "plt.show()"
      ]
    },
    {
      "cell_type": "markdown",
      "metadata": {
        "id": "i4wB76dS7qPy"
      },
      "source": [
        "**Insights** <br>\n",
        "- Distribusi volume, panjang, lebar, dan tinggi suatu produk semuanya right-skewed atau tidak normal\n",
        "- Distribusi volume produk paling banyak berada diantara rentang 0 - 5000 cm3\n",
        "- Distribusi panjang produk paling banyak berada dalam rentang 20 - 30 cm\n",
        "- Distribusi tinggi produk paling banyak berada dalam rentang 5 - 20 cm\n",
        "- Distribusi lebar produk paling banyak berada dalam rentang 5 - 20 cm"
      ]
    },
    {
      "cell_type": "markdown",
      "metadata": {
        "id": "GFWsn9mK7qPy"
      },
      "source": [
        "#### Quest: Bagaimana distribusi dari berat product?"
      ]
    },
    {
      "cell_type": "code",
      "execution_count": null,
      "metadata": {
        "id": "1sIB23r87qPy"
      },
      "outputs": [],
      "source": [
        "# Create a histogram with KDE for the numerical column\n",
        "plt.figure(figsize=(10, 6))\n",
        "sns.histplot(products_df['product_weight_g'], kde=True, bins=10,\n",
        "             color='green', edgecolor='black', alpha=0.7)\n",
        "\n",
        "# Set title and labels\n",
        "plt.title('Distribution of Product Weight (g)', fontsize=16)\n",
        "plt.xlabel('Value', fontsize=14)\n",
        "plt.ylabel('Density', fontsize=14)\n",
        "\n",
        "# Set y-axis to start at zero for accurate representation\n",
        "plt.ylim(0)\n",
        "\n",
        "# Improve layout and remove gridlines for clarity\n",
        "plt.grid(False)\n",
        "plt.tight_layout()\n",
        "\n",
        "# Show the plot\n",
        "plt.show()"
      ]
    },
    {
      "cell_type": "markdown",
      "metadata": {
        "id": "Vp73gRyO7qPy"
      },
      "source": [
        "**Insights** <br>\n",
        "- Sama seperti distribusi dimensi produk, dimensi berat produk juga memiliki distribusi right-skewed (tidak normal). Artinya beberapa produk memiliki berat lebih dari 15000 (g)\n",
        "- Mayoritas berat produk berada diantara rentang 0 - 5000 (g)"
      ]
    },
    {
      "cell_type": "markdown",
      "metadata": {
        "id": "QK4YKiMh7qPz"
      },
      "source": [
        "#### Quest: Top-5 category product dengan nama product terpanjang"
      ]
    },
    {
      "cell_type": "code",
      "execution_count": null,
      "metadata": {
        "id": "GjrsJGbZ7qPz"
      },
      "outputs": [],
      "source": [
        "products_df.sort_values(by='product_name_lenght', ascending=False).head(5)[['product_category_name', 'product_name_lenght']]"
      ]
    },
    {
      "cell_type": "markdown",
      "metadata": {
        "id": "nu-yJKbM7qPz"
      },
      "source": [
        "**Insights** <br>\n",
        "1. Kategori produk *perfumaria*, *moveis_decoracao*, *beleza_saude*, *cama_mesa_banho*, dan *construcao_ferramentas_jardim* memiliki nama produk yang terpanjang"
      ]
    },
    {
      "cell_type": "markdown",
      "metadata": {
        "id": "vM7JlySS7qPz"
      },
      "source": [
        "### EDA on Sellers"
      ]
    },
    {
      "cell_type": "markdown",
      "metadata": {
        "id": "E5LbxQZ77qPz"
      },
      "source": [
        "#### Quest: Penjual paling banyak berasal dari city dan state mana?"
      ]
    },
    {
      "cell_type": "code",
      "execution_count": null,
      "metadata": {
        "id": "-lf-JrVE7qP0"
      },
      "outputs": [],
      "source": [
        "# Count the frequency of each city\n",
        "city_counts = sellers_df['seller_city'].value_counts().head(20)\n",
        "\n",
        "# Create a horizontal bar plot for city frequencies\n",
        "plt.figure(figsize=(10, 6))\n",
        "sns.barplot(y=city_counts.index, x=city_counts.values, palette='green')\n",
        "\n",
        "# Add titles and labels\n",
        "plt.title('Frequency of Cities from Sellers Data', fontsize=16)\n",
        "plt.ylabel('City', fontsize=14)\n",
        "plt.xlabel('Frequency', fontsize=14)\n",
        "\n",
        "# Set x-axis to start at zero for accurate representation\n",
        "plt.xlim(0, city_counts.max() * 1.1)  # Add some space to the right of the highest bar\n",
        "\n",
        "# Add value labels on the right side of each bar\n",
        "for i in range(len(city_counts)):\n",
        "    plt.text(city_counts.values[i] + 0.1, i, city_counts.values[i],\n",
        "             va='center', fontsize=12)\n",
        "\n",
        "# Improve layout and remove gridlines for clarity\n",
        "plt.grid(False)\n",
        "plt.tight_layout()\n",
        "\n",
        "# Show the plot\n",
        "plt.show()"
      ]
    },
    {
      "cell_type": "code",
      "execution_count": null,
      "metadata": {
        "id": "_JYlteMF7qP0"
      },
      "outputs": [],
      "source": [
        "# Count the frequency of each state\n",
        "state_counts = sellers_df['seller_state'].value_counts().head(20)\n",
        "\n",
        "# Create a horizontal bar plot for city frequencies\n",
        "plt.figure(figsize=(10, 6))\n",
        "sns.barplot(y=state_counts.index, x=state_counts.values, palette='green')\n",
        "\n",
        "# Add titles and labels\n",
        "plt.title('Frequency of States from Sellers Data', fontsize=16)\n",
        "plt.ylabel('State', fontsize=14)\n",
        "plt.xlabel('Frequency', fontsize=14)\n",
        "\n",
        "# Set x-axis to start at zero for accurate representation\n",
        "plt.xlim(0, state_counts.max() * 1.1)  # Add some space to the right of the highest bar\n",
        "\n",
        "# Add value labels on the right side of each bar\n",
        "for i in range(len(state_counts)):\n",
        "    plt.text(state_counts.values[i] + 0.1, i, state_counts.values[i],\n",
        "             va='center', fontsize=12)\n",
        "\n",
        "# Improve layout and remove gridlines for clarity\n",
        "plt.grid(False)\n",
        "plt.tight_layout()\n",
        "\n",
        "# Show the plot\n",
        "plt.show()"
      ]
    },
    {
      "cell_type": "markdown",
      "metadata": {
        "id": "vUdXqF6y7qP0"
      },
      "source": [
        "**Penjelasan** <br>\n",
        "- Terlihat bahwa penjual paling banyak berasal dari **Sao Paulo** dan negara bagian **SP**"
      ]
    },
    {
      "cell_type": "markdown",
      "metadata": {
        "id": "zsyZjqak8DC2"
      },
      "source": [
        "## Visualization & Explanatory Analysis"
      ]
    },
    {
      "cell_type": "markdown",
      "metadata": {
        "id": "HZxOiQ6n8DC2"
      },
      "source": [
        "### Pertanyaan 1: Bagaimana jumlah hasil penjualan dari setiap product category?"
      ]
    },
    {
      "cell_type": "code",
      "execution_count": null,
      "metadata": {
        "id": "KkHL8isL7qP1"
      },
      "outputs": [],
      "source": [
        "product_orders = pd.merge(overall_order_tables, products_df, on='product_id', how='inner')\n",
        "\n",
        "# simpan data products orders untuk digunakan di dashboard\n",
        "product_orders.to_csv('./dashboard/product_orders.csv', index=False)"
      ]
    },
    {
      "cell_type": "code",
      "execution_count": null,
      "metadata": {
        "id": "GNQhiB907qP1"
      },
      "outputs": [],
      "source": [
        "# karena kategori produk cukup banyak >30.000 kategori produk, maka ambil beberapa saja dan ganti kategori yang tidak termasuk kategori menjadi 'Others'\n",
        "df = product_orders['product_category_name'].value_counts()\n",
        "\n",
        "# filter kategori produk dengan nilai >2000 untuk ditampilkan selain itu beri simbol \"Others\"\n",
        "filtered_categories = df[df >= 2000].index\n",
        "product_orders['updated_product_category'] = product_orders['product_category_name'].where(product_orders['product_category_name'].isin(filtered_categories), 'Other')"
      ]
    },
    {
      "cell_type": "code",
      "execution_count": null,
      "metadata": {
        "id": "9Osr8NG47qP1"
      },
      "outputs": [],
      "source": [
        "# hitung total penjualan per produk kategori\n",
        "df = product_orders.groupby('updated_product_category')['price'].sum().reset_index().sort_values(by='price', ascending=False)\n",
        "\n",
        "# Create a horizontal bar plot for city frequencies\n",
        "plt.figure(figsize=(10, 6))\n",
        "sns.barplot(y='updated_product_category', x='price', data=df, palette='green')\n",
        "\n",
        "# Add titles and labels\n",
        "plt.title('Total Penjualan per Kategori Produk', fontsize=16)\n",
        "plt.ylabel('Kategori Produk', fontsize=14)\n",
        "plt.xlabel('Total Penjualan', fontsize=14)\n",
        "\n",
        "# Set x-axis to start at zero for accurate representation\n",
        "plt.xlim(0, df['price'].max() * 1.1)  # Add some space to the right of the highest bar\n",
        "\n",
        "# Add value labels on the right side of each bar\n",
        "for i in range(len(df)):\n",
        "    plt.text(df['price'].values[i] + 0.1, i, df['price'].values[i],\n",
        "             va='center', fontsize=12)\n",
        "\n",
        "# Improve layout and remove gridlines for clarity\n",
        "plt.grid(False)\n",
        "plt.tight_layout()\n",
        "\n",
        "# Show the plot\n",
        "plt.show()"
      ]
    },
    {
      "cell_type": "markdown",
      "metadata": {
        "id": "bE_PY4fm7qP1"
      },
      "source": [
        "**Insights** <br>\n",
        "- Karena kategori produk yang ditampilkan di atas merupakan hasil filter, maka kategori produk yang memiliki orders >=2000 pesanan dikategorikan menjadi **Others**\n",
        "- Top-3 kategori produk selain **Others** dengan total penjualan tertinggi (price) yaitu *beleza_saude*, *cama_mesa_banho*, dan *relogios_presentes* masing-masing sebesar 1.290.883 dollar (asumsi dollar sebagai mata uang), 1.286.386 dollar, dan 1.245.783 dollar\n",
        "- Produk fashion dan aksesoris (*fashion_bolsas_e_accessorios*) paling sedikit mendatangkan penjualan"
      ]
    },
    {
      "cell_type": "markdown",
      "metadata": {
        "id": "DgHI7CiU8DC2"
      },
      "source": [
        "### Pertanyaan 2: Bagaimana hasil tren dari penjualan (order) setiap tahun?"
      ]
    },
    {
      "cell_type": "markdown",
      "metadata": {
        "id": "YeLotEyK7qP4"
      },
      "source": [
        "#### Tren penjualan per tahun"
      ]
    },
    {
      "cell_type": "code",
      "execution_count": null,
      "metadata": {
        "id": "YzLcX4pH7qP4"
      },
      "outputs": [],
      "source": [
        "# cari tahu data (price) penjualan per Tahun\n",
        "data_penjualan_tahunan = overall_order_tables.groupby(\n",
        "    overall_order_tables['order_purchase_timestamp'].dt.to_period('Y')\n",
        ").agg({'price': 'sum'}).reset_index()\n",
        "data_penjualan_tahunan['order_purchase_timestamp'] = data_penjualan_tahunan['order_purchase_timestamp'].apply(lambda x: str(x))\n",
        "data_penjualan_tahunan['Change'] = data_penjualan_tahunan['price'].diff().fillna(0)\n",
        "\n",
        "# set ukuran kanvas\n",
        "plt.figure(figsize=(15, 6))\n",
        "\n",
        "# Plot the data with custom colors\n",
        "plt.plot(\n",
        "    data_penjualan_tahunan['order_purchase_timestamp'],\n",
        "    data_penjualan_tahunan['price'],\n",
        "    marker='o',\n",
        "    linestyle='-',\n",
        "    color='b', linewidth=2)\n",
        "\n",
        "# Annotate each point with the price value and change\n",
        "for i in range(len(data_penjualan_tahunan)):\n",
        "    plt.text(\n",
        "        data_penjualan_tahunan['order_purchase_timestamp'][i],\n",
        "        data_penjualan_tahunan['price'][i] + 1000,\n",
        "        f'{data_penjualan_tahunan[\"price\"][i]}',\n",
        "             ha='center', fontsize=14)\n",
        "    if i > 0:  # Skip the first year for change annotation\n",
        "        change = data_penjualan_tahunan['Change'][i]\n",
        "        change_text = f'{\"+\" if change > 0 else \"\"}{float(change)}'\n",
        "        plt.text(\n",
        "            data_penjualan_tahunan['order_purchase_timestamp'][i],\n",
        "            data_penjualan_tahunan['price'][i] + 500000,\n",
        "            change_text,\n",
        "            ha='center', fontsize=16, color='red')\n",
        "\n",
        "# Adding titles and labels\n",
        "plt.title('Tren Penjualan Tahunan', fontsize=18, fontweight='bold')\n",
        "plt.xlabel('Tahun', fontsize=16)\n",
        "plt.ylabel('Total Penjualan', fontsize=16)\n",
        "\n",
        "# Customize the ticks\n",
        "plt.xticks(fontsize=14)\n",
        "plt.yticks(fontsize=14)\n",
        "\n",
        "# Add gridlines for better readability\n",
        "plt.grid(visible=True, linestyle='--', alpha=0.8)\n",
        "\n",
        "# Show the plot\n",
        "plt.tight_layout()\n",
        "plt.show()"
      ]
    },
    {
      "cell_type": "markdown",
      "metadata": {
        "id": "3pGEA6z47qP4"
      },
      "source": [
        "**Insights** <br>\n",
        "- Secara keseluruhan per tahun tren penjualan yang dihasilkan mampu memberikan profit dari tahun-tahun sebelumnya, dimana peningkatan profit tertinggi terjadi dari 2016 ke 2017 dengan penambahan sebesar 6.406.070 dollar\n",
        "- Peningkatan profit dari 2017 ke 2018 tidak setinggi tahun sebelumnya karena tren penjualan pada bulan 08-2018 ke 09-2018 mengalami penurunan omzet penjualan cukup tinggi yang menyebabkan total penjualan keseluruhan tidak termarkup"
      ]
    },
    {
      "cell_type": "markdown",
      "metadata": {
        "id": "9y4VUsmcYNZ5"
      },
      "source": [
        "## Analisis Lanjutan (Opsional)"
      ]
    },
    {
      "cell_type": "markdown",
      "metadata": {
        "id": "Q8UetF5W7qP7"
      },
      "source": [
        "### RFM Analysis\n",
        "***\n",
        "**Pengertian** <br>\n",
        "RFM analysis merupakan salah satu metode yang umum digunakan untuk melakukan segmentasi pelanggan (mengelompokkan pelanggan ke dalam beberapa kategori) berdasarkan tiga parameter, yaitu recency, frequency, dan monetary.\n",
        "\n",
        "**Pertanyaan untuk RFM Analysis**\n",
        "1. **Recency**: Kapan terakhir pelanggan melakukan transaksi?\n",
        "2. **Frequency**: Seberapa sering seorang pelanggan melakukan pembelian dalam beberapa bulan terakhir?\n",
        "3. **Monetary**: Berapa banyak uang yang dihabiskan pelanggan dalam beberapa bulan terakhir?"
      ]
    },
    {
      "cell_type": "code",
      "execution_count": null,
      "metadata": {
        "id": "79qrYTEe7qP7"
      },
      "outputs": [],
      "source": [
        "def create_rfm_df(unique_primary_key, name='customer'):\n",
        "    # buat variabel untuk menampung hasil perhitungan RFM analysis\n",
        "    rfm_df = overall_order_tables.groupby(unique_primary_key, as_index=False).agg({\n",
        "        \"order_purchase_timestamp\": \"max\", # mengambil tanggal order terakhir\n",
        "        \"order_id\": \"nunique\", # menghitung jumlah order unik\n",
        "        \"price\": \"sum\" # menghitung jumlah revenue yang dihasilkan\n",
        "    })\n",
        "    rfm_df.columns = [name+\"_id\", \"max_order_timestamp\", \"frequency\", \"monetary\"]\n",
        "\n",
        "    # menghitung kapan terakhir pelanggan melakukan transaksi (hari)\n",
        "    rfm_df[\"max_order_timestamp\"] = rfm_df[\"max_order_timestamp\"].dt.date\n",
        "    recent_date = overall_order_tables[\"order_purchase_timestamp\"].dt.date.max()\n",
        "    rfm_df[\"recency\"] = rfm_df[\"max_order_timestamp\"].apply(lambda x: (recent_date - x).days)\n",
        "\n",
        "    rfm_df.drop(\"max_order_timestamp\", axis=1, inplace=True)\n",
        "\n",
        "    # buat mapping customer_id agar ID (ambil 3 kode string terakhir dari setiap id)\n",
        "    rfm_df[name+'_id_mapping'] = rfm_df[name+'_id'].apply(lambda x: \"ID-\"+x[-3:])\n",
        "\n",
        "    return rfm_df"
      ]
    },
    {
      "cell_type": "code",
      "execution_count": null,
      "metadata": {
        "id": "OzG72v597qP7"
      },
      "outputs": [],
      "source": [
        "def visualize_rfm_df(\n",
        "    rfm_df,\n",
        "    name='customer',\n",
        "    name_id='customer_id_mapping',\n",
        "    n_objects=10,\n",
        "    recency_ascending=True,\n",
        "    frequency_ascending=False,\n",
        "    monetary_ascending=False,\n",
        "):\n",
        "\n",
        "    # identifikasi best customer berdasarkan parameter frequency, monetary, recency\n",
        "    fig, ax = plt.subplots(nrows=1, ncols=3, figsize=(20, 5))\n",
        "\n",
        "    sns.barplot(y=\"recency\", x=name_id, data=rfm_df.sort_values(by=\"recency\", ascending=recency_ascending).head(n_objects), palette='green', ax=ax[0])\n",
        "    ax[0].set_ylabel(None)\n",
        "    ax[0].set_xlabel(None)\n",
        "    ax[0].set_title(\"By Recency (days)\", loc=\"center\", fontsize=18)\n",
        "    ax[0].tick_params(axis ='x', labelsize=15,rotation=45)\n",
        "\n",
        "    sns.barplot(y=\"frequency\", x=name_id, data=rfm_df.sort_values(by=\"frequency\", ascending=frequency_ascending).head(n_objects), palette='green', ax=ax[1])\n",
        "    ax[1].set_ylabel(None)\n",
        "    ax[1].set_xlabel(None)\n",
        "    ax[1].set_title(\"By Frequency\", loc=\"center\", fontsize=18)\n",
        "    ax[1].tick_params(axis='x', labelsize=15, rotation=45)\n",
        "\n",
        "    sns.barplot(y=\"monetary\", x=name_id, data=rfm_df.sort_values(by=\"monetary\", ascending=monetary_ascending).head(n_objects), palette='green', ax=ax[2])\n",
        "    ax[2].set_ylabel(None)\n",
        "    ax[2].set_xlabel(None)\n",
        "    ax[2].set_title(\"By Monetary\", loc=\"center\", fontsize=18)\n",
        "    ax[2].tick_params(axis='x', labelsize=15,rotation=45)\n",
        "\n",
        "    plt.suptitle(f\"Best {name.capitalize()} Based on RFM Parameters ({name_id})\", fontsize=20)\n",
        "    plt.show()"
      ]
    },
    {
      "cell_type": "markdown",
      "metadata": {
        "id": "Vkvpqxi67qP8"
      },
      "source": [
        "#### Customer RFM Analysis"
      ]
    },
    {
      "cell_type": "code",
      "execution_count": null,
      "metadata": {
        "id": "P1iHXPsr7qP8"
      },
      "outputs": [],
      "source": [
        "customer_rfm_df = create_rfm_df('customer_unique_id')\n",
        "customer_rfm_df"
      ]
    },
    {
      "cell_type": "code",
      "execution_count": null,
      "metadata": {
        "id": "iHe0JHYi7qP8"
      },
      "outputs": [],
      "source": [
        "visualize_rfm_df(customer_rfm_df)"
      ]
    },
    {
      "cell_type": "markdown",
      "metadata": {
        "id": "apyh8Ctn7qP9"
      },
      "source": [
        "**Insights** <br>\n",
        "1. **Recency**\n",
        "    - Customer dengan ID-564 menjadi customer yang baru melakukan transaksi akhir-akhir ini dan sisanya baru melakukan transaksi 5 hari ke belakang\n",
        "2. **Frequency**\n",
        "    - Customer dengan ID-455 menjadi customer yang paling sering melakukan transkasi akhir-akhir ini dan sisanya melakukan transaksi dalam rentang 6 - 9 transaksi akhir-akhir ini\n",
        "3. **Monetary**\n",
        "    - Customer dengan ID-872 menyumbang total pembelian terbanyak +-13.970 dollar"
      ]
    },
    {
      "cell_type": "markdown",
      "metadata": {
        "id": "iWhnzsJGYUCO"
      },
      "source": [
        "### Geospatial Analysis\n",
        "***\n",
        "**Pengertian** <br>\n",
        "Geospasial analisis bertujuan untuk menganalisis data berdasarkan lokasi geografis untuk mengidentifikasi tren atau pola tertentu di suatu wilayah. Package seperti *Folium* dapat digunakan untuk mendapatkan distribusi data berdasarkan lokasi\n",
        "\n",
        "**Tujuan** <br>\n",
        "- Tampilkan demografi top-100 user berdasarkan hasil RFM analysis (monetary tertinggi)"
      ]
    },
    {
      "cell_type": "code",
      "execution_count": null,
      "metadata": {
        "id": "m8j_G1_V7qP_"
      },
      "outputs": [],
      "source": [
        "top_n_users = 100"
      ]
    },
    {
      "cell_type": "markdown",
      "metadata": {
        "id": "An5QKdFh7qQA"
      },
      "source": [
        "#### Demografi Geolocation dari Top-10 user based on RFM Analysis"
      ]
    },
    {
      "cell_type": "code",
      "execution_count": null,
      "metadata": {
        "id": "Ksrwe2i07qQA"
      },
      "outputs": [],
      "source": [
        "# gabungkan data rfm analysis, customer, dan geolocation\n",
        "merge_customer_geo_rfm_df = pd.merge(customer_rfm_df, customers_df, left_on='customer_id', right_on='customer_unique_id', how='inner')\n",
        "merge_customer_geo_rfm_df = pd.merge(merge_customer_geo_rfm_df, geolocation_df,\n",
        "                                     left_on='customer_zip_code_prefix',\n",
        "                                     right_on='geolocation_zip_code_prefix',\n",
        "                                     how='inner')"
      ]
    },
    {
      "cell_type": "code",
      "execution_count": null,
      "metadata": {
        "id": "OgGRuU2e7qQA"
      },
      "outputs": [],
      "source": [
        "# pertahankan hanya kolom-kolom yang penting saja untuk geospatial analysis\n",
        "merge_customer_geo_rfm_df = merge_customer_geo_rfm_df[\n",
        "    ['customer_id_mapping','frequency', 'monetary','recency','geolocation_lat',\n",
        "     'geolocation_lng', 'geolocation_zip_code_prefix',\n",
        "     'geolocation_city', 'geolocation_state'\n",
        "    ]\n",
        "].sort_values(by='monetary', ascending=False).head(top_n_users)"
      ]
    },
    {
      "cell_type": "code",
      "execution_count": null,
      "metadata": {
        "id": "muG6a_Zz7qQA"
      },
      "outputs": [],
      "source": [
        "merge_customer_geo_rfm_df"
      ]
    },
    {
      "cell_type": "code",
      "execution_count": null,
      "metadata": {
        "id": "xUc35eYi7qQA"
      },
      "outputs": [],
      "source": [
        "# tampilkan demografi customer dengan folium\n",
        "# Create a base map centered around the average location\n",
        "map_center = [merge_customer_geo_rfm_df['geolocation_lat'].mean(), merge_customer_geo_rfm_df['geolocation_lng'].mean()]\n",
        "customer_map = folium.Map(location=map_center, zoom_start=2)\n",
        "\n",
        "# Add markers for each customer\n",
        "for index, row in merge_customer_geo_rfm_df.iterrows():\n",
        "    folium.Marker(\n",
        "        location=[row['geolocation_lat'], row['geolocation_lng']],\n",
        "        popup=f'Customer: {row[\"customer_id_mapping\"]}',\n",
        "        icon=folium.Icon(color='blue')\n",
        "    ).add_to(customer_map)\n",
        "\n",
        "# Display the map (in Jupyter Notebook or similar environments)\n",
        "customer_map"
      ]
    },
    {
      "cell_type": "markdown",
      "metadata": {
        "id": "7EistQXD7qQC"
      },
      "source": [
        "### Clustering"
      ]
    },
    {
      "cell_type": "markdown",
      "metadata": {
        "id": "iSWPj_Wp7qQC"
      },
      "source": [
        "#### Grouping\n",
        "***\n",
        "Pengelompokkan data menggunakan **.groupby()** sudah dilakukan pada langkah-langkah analisis sebelumnya"
      ]
    },
    {
      "cell_type": "markdown",
      "metadata": {
        "id": "xZpQ1WF97qQC"
      },
      "source": [
        "#### Binning\n",
        "***\n",
        "**Pengertian** <br>\n",
        "Fungsi pandas.cut digunakan untuk melakukan segmentasi dan mengurutkan nilai data ke dalam kelompok atau interval yang terpisah. Fungsi ini sangat berguna ketika Anda ingin mengubah variabel kontinu menjadi variabel kategoris. Misalnya, Anda mungkin ingin mengkategorikan usia ke dalam kelompok seperti \"anak-anak\", \"remaja\", dan \"dewasa\".\n",
        "\n",
        "**Tujuan**\n",
        "Teknik ini umumnya digunakan untuk diskritisasi data kontinyu menjadi ke dalam interval atau kategori tertentu. Hal ini dapat dimanfaatkan untuk tujuan pembelajaran mesin berbasis data kategori seperti Naive Bayes dan Decision Tree"
      ]
    },
    {
      "cell_type": "markdown",
      "metadata": {
        "id": "iTwbLSt37qQD"
      },
      "source": [
        "##### Binning RFM Analysis [frequency, monetary, recency] from Customer"
      ]
    },
    {
      "cell_type": "code",
      "execution_count": null,
      "metadata": {
        "id": "Rs5vtx-17qQD"
      },
      "outputs": [],
      "source": [
        "customer_rfm_df['frequency_bin'] = pd.cut(customer_rfm_df['frequency'], bins=3, labels=['infrequent', 'middle', 'frequent'])\n",
        "customer_rfm_df['monetary_bin'] = pd.cut(customer_rfm_df['monetary'], bins=3, labels=['low expense', 'middle', 'high expense'])\n",
        "customer_rfm_df['recency_bin'] = pd.cut(customer_rfm_df['recency'], bins=3, labels=['long time', 'middle', 'recently'])\n",
        "customer_rfm_df"
      ]
    },
    {
      "cell_type": "code",
      "execution_count": null,
      "metadata": {
        "id": "VMMonIMW7qQD"
      },
      "outputs": [],
      "source": [
        "# Count frequencies for each categorical column\n",
        "frequency_counts = customer_rfm_df['frequency_bin'].value_counts()\n",
        "monetary_counts = customer_rfm_df['monetary_bin'].value_counts()\n",
        "recency_counts = customer_rfm_df['recency_bin'].value_counts()\n",
        "\n",
        "# Create subplots\n",
        "fig, axes = plt.subplots(nrows=1, ncols=3, figsize=(15, 5))\n",
        "fig.suptitle('Distribution of Customer RFM Analysis Segments by Bins', fontsize=16)\n",
        "\n",
        "# Frequency Bin Plot\n",
        "axes[0].bar(frequency_counts.index, frequency_counts.values, color='g')\n",
        "axes[0].set_title('Frequency Bin')\n",
        "axes[0].set_xlabel('Categories')\n",
        "axes[0].set_ylabel('Count')\n",
        "# Add annotations on top of bars for Frequency Bin\n",
        "for index, value in enumerate(frequency_counts.values):\n",
        "    axes[0].text(index, value + 0.1, str(value), ha='center')\n",
        "\n",
        "# Monetary Bin Plot\n",
        "axes[1].bar(monetary_counts.index, monetary_counts.values, color='g')\n",
        "axes[1].set_title('Monetary Bin')\n",
        "axes[1].set_xlabel('Categories')\n",
        "axes[1].set_ylabel('Count')\n",
        "# Add annotations on top of bars for Monetary Bin\n",
        "for index, value in enumerate(monetary_counts.values):\n",
        "    axes[1].text(index, value + 0.1, str(value), ha='center')\n",
        "\n",
        "# Recency Bin Plot\n",
        "axes[2].bar(recency_counts.index, recency_counts.values, color='g')\n",
        "axes[2].set_title('Recency Bin')\n",
        "axes[2].set_xlabel('Categories')\n",
        "axes[2].set_ylabel('Count')\n",
        "# Add annotations on top of bars for Recency Bin\n",
        "for index, value in enumerate(recency_counts.values):\n",
        "    axes[2].text(index, value + 0.1, str(value), ha='center')\n",
        "\n",
        "# Improve layout\n",
        "plt.tight_layout()\n",
        "\n",
        "# Show the plot\n",
        "plt.show()"
      ]
    },
    {
      "cell_type": "markdown",
      "metadata": {
        "id": "_WeHlCeX8DC2"
      },
      "source": [
        "## Conclusion"
      ]
    },
    {
      "cell_type": "markdown",
      "metadata": {
        "id": "ZTcyR48Y8DC2"
      },
      "source": [
        "1. Pertanyaan : Bagaimana jumlah hasil penjualan dari setiap product category?\n",
        "**Jawaban**: <br>\n",
        "- Karena kategori produk yang ditampilkan di atas merupakan hasil filter, maka kategori produk yang memiliki orders >=2000 pesanan dikategorikan menjadi Others\n",
        "- Top-3 kategori produk selain Others dengan total penjualan tertinggi (price) yaitu beleza_saude, cama_mesa_banho, dan relogios_presentes masing-masing sebesar 1.290.883 dollar (asumsi dollar sebagai mata uang), 1.286.386 dollar, dan 1.245.783 dollar\n",
        "- Produk fashion dan aksesoris (fashion_bolsas_e_accessorios) paling sedikit mendatangkan penjualan\n",
        "\n",
        "2. Pertanyaan : Bagaimana hasil tren dari penjualan (order) setiap tahun?\n",
        "**Jawaban**: <br>\n",
        "- Secara keseluruhan per tahun tren penjualan yang dihasilkan mampu memberikan profit dari tahun-tahun sebelumnya, dimana peningkatan profit tertinggi terjadi dari 2016 ke 2017 dengan penambahan sebesar 6.406.070 dollar\n",
        "- Peningkatan profit dari 2017 ke 2018 tidak setinggi tahun sebelumnya karena tren penjualan pada bulan 08-2018 ke 09-2018 mengalami penurunan omzet penjualan cukup tinggi yang menyebabkan total penjualan keseluruhan tidak termarkup"
      ]
    }
  ],
  "metadata": {
    "colab": {
      "provenance": []
    },
    "kernelspec": {
      "display_name": "idcamp2024",
      "language": "python",
      "name": "idcamp2024"
    },
    "language_info": {
      "codemirror_mode": {
        "name": "ipython",
        "version": 3
      },
      "file_extension": ".py",
      "mimetype": "text/x-python",
      "name": "python",
      "nbconvert_exporter": "python",
      "pygments_lexer": "ipython3",
      "version": "3.8.5"
    },
    "toc": {
      "base_numbering": 1,
      "nav_menu": {},
      "number_sections": true,
      "sideBar": true,
      "skip_h1_title": false,
      "title_cell": "Table of Contents",
      "title_sidebar": "Contents",
      "toc_cell": false,
      "toc_position": {
        "height": "calc(100% - 180px)",
        "left": "10px",
        "top": "150px",
        "width": "383.458px"
      },
      "toc_section_display": true,
      "toc_window_display": true
    },
    "vscode": {
      "interpreter": {
        "hash": "972b3bf27e332e87b5379f2791f6ef9dfc79c71018c370b0d7423235e20fe4d7"
      }
    }
  },
  "nbformat": 4,
  "nbformat_minor": 0
}